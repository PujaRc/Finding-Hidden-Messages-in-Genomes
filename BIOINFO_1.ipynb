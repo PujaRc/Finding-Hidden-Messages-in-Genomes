{
  "nbformat": 4,
  "nbformat_minor": 0,
  "metadata": {
    "colab": {
      "name": "BIOINFO 1.ipynb",
      "provenance": [],
      "collapsed_sections": [],
      "include_colab_link": true
    },
    "kernelspec": {
      "name": "python3",
      "display_name": "Python 3"
    }
  },
  "cells": [
    {
      "cell_type": "markdown",
      "metadata": {
        "id": "view-in-github",
        "colab_type": "text"
      },
      "source": [
        "<a href=\"https://colab.research.google.com/github/PujaRc/Finding-Hidden-Messages-in-Genomes/blob/master/BIOINFO_1.ipynb\" target=\"_parent\"><img src=\"https://colab.research.google.com/assets/colab-badge.svg\" alt=\"Open In Colab\"/></a>"
      ]
    },
    {
      "cell_type": "markdown",
      "metadata": {
        "id": "3S4rr-RJApUD",
        "colab_type": "text"
      },
      "source": [
        "# **Where in the Genome does Replication begin?**\n",
        "\n",
        "### Here are some lines of codes to help find an ori. "
      ]
    },
    {
      "cell_type": "markdown",
      "metadata": {
        "id": "sB9kKf982A-x",
        "colab_type": "text"
      },
      "source": [
        "## PatternCount\n",
        "   Counts the number of times a given pattern occurs in a text. "
      ]
    },
    {
      "cell_type": "code",
      "metadata": {
        "id": "adgQifci19ij",
        "colab_type": "code",
        "colab": {}
      },
      "source": [
        "def PatternCount(Text, Pattern):\n",
        "  '''\n",
        "  INPUTS:\n",
        "    Text: str, this carries the genome or a fragment of a genome.\n",
        "    Pattern: str, this is the word whose number of occurences is to be counted.\n",
        "  OUTPUTS:\n",
        "    Count: int, the number of times the given Pattern occurs in Text. \n",
        "  '''\n",
        "  Count = 0\n",
        "  for i in range(len(Text) - len(Pattern) + 1):\n",
        "    if Text[i:i + len(Pattern)] == Pattern:\n",
        "        Count += 1\n",
        "  return Count "
      ],
      "execution_count": 0,
      "outputs": []
    },
    {
      "cell_type": "markdown",
      "metadata": {
        "id": "GmuubaIk0B7o",
        "colab_type": "text"
      },
      "source": [
        "## FrequentWords\n",
        "This function finds the `most` frequently occuring words of a specific legth in a given text. \n"
      ]
    },
    {
      "cell_type": "code",
      "metadata": {
        "id": "ljRt_H8QBMA8",
        "colab_type": "code",
        "colab": {}
      },
      "source": [
        "def FrequentWords(Text, k):\n",
        "  '''\n",
        "  INPUTS: \n",
        "    Text: str, this carries the genome or a fragment of a genome.\n",
        "    k: int, length of the word.\n",
        "  OUTPUTS: \n",
        "    FrequentPatterns: set, the words of length k that occurs most frequently. \n",
        "  '''\n",
        "  FrequentPatterns = set()\n",
        "  Count = []\n",
        "  for i in range(len(Text) - k + 1):\n",
        "    Pattern = Text[i:i+k]\n",
        "    Count.append(PatternCount(Text=Text, Pattern=Pattern))\n",
        "    \n",
        "  maxCount = max(Count)\n",
        "  for i in range(len(Text) - k + 1):\n",
        "    Pattern = Text[i:i+k]\n",
        "    if Count[i] == maxCount:\n",
        "        FrequentPatterns.add(Pattern)\n",
        "  return FrequentPatterns\n"
      ],
      "execution_count": 0,
      "outputs": []
    },
    {
      "cell_type": "markdown",
      "metadata": {
        "id": "mNlTnuIX8Vgw",
        "colab_type": "text"
      },
      "source": [
        "## Test\n",
        "   Frequent Words"
      ]
    },
    {
      "cell_type": "code",
      "metadata": {
        "id": "-3EFeeWq8Qhs",
        "colab_type": "code",
        "outputId": "099afd1c-ad55-4d30-ef6a-de2edbebc017",
        "colab": {
          "base_uri": "https://localhost:8080/",
          "height": 34
        }
      },
      "source": [
        "Text = \"aactctatacctcctttttgtcgaatttgtgtgatttatagagaaaatcttattaactgaaactaaaatggt\"\\\n",
        "        \"aggtttggtggtaggttttgtgtacattttgtagtatctgatttttaattacataccgtatattgtattaaa\"\\\n",
        "        \"ttgacgaacaattgcatggaattgaatatatgcaaaacaaacctaccaccaaactctgtattgaccatttta\"\\\n",
        "        \"ggacaacttcagggtggtaggtttctgaagctctcatcaatagactattttagtctttacaaacaatattac\"\\\n",
        "        \"cgttcagattcaagattctacaacgctgttttaatgggcgttgcagaaaacttaccacctaaaatccagtat\"\\\n",
        "        \"ccaagccgatttcagagaaacctaccacttacctaccacttacctaccacccgggtggtaagttgcagacat\"\\\n",
        "        \"tattaaaaacctcatcagaagcttgttcaaaaatttcaatactcgaaacctaccacctgcgtcccctattat\"\\\n",
        "        \"ttactactactaataatagcagtataattgatctga\"\n",
        "k = 3\n",
        "print(FrequentWords(Text, k))"
      ],
      "execution_count": 0,
      "outputs": [
        {
          "output_type": "stream",
          "text": [
            "{'ttt', 'att'}\n"
          ],
          "name": "stdout"
        }
      ]
    },
    {
      "cell_type": "markdown",
      "metadata": {
        "id": "7FogPleH9Swc",
        "colab_type": "text"
      },
      "source": [
        "## FrequencyMap\n",
        "This function maps a pattern of a specific length to the given text. "
      ]
    },
    {
      "cell_type": "code",
      "metadata": {
        "id": "NTXn4Yg-JGq2",
        "colab_type": "code",
        "colab": {}
      },
      "source": [
        "def FrequencyMap(Text, k):\n",
        "\t'''\n",
        "\tINPUTS:\n",
        "\t\tText: str, this carries the genome or a fragment of a genome.\n",
        "\t\tk: int, length of the word.\n",
        "\tOUTPUTS:\n",
        "\t\tfreq: dict, pattern with its frequency.\n",
        "\t'''\n",
        "\tfreq = dict()\n",
        "\tfor i in range(len(Text) - k + 1):\n",
        "\t\tPattern = Text[i:i+k]\n",
        "\t\tif Pattern in freq.keys():\n",
        "\t\t\tfreq[Pattern] += 1\n",
        "\t\telse:\n",
        "\t\t\tfreq[Pattern] = 1\t\n",
        "\treturn freq\t\t\t"
      ],
      "execution_count": 0,
      "outputs": []
    },
    {
      "cell_type": "markdown",
      "metadata": {
        "id": "J3kjhUJlHBjE",
        "colab_type": "text"
      },
      "source": [
        "## AlternativeFrequentWords\n",
        "Fraternal twin of `FrequentWords`. "
      ]
    },
    {
      "cell_type": "code",
      "metadata": {
        "id": "0x_JnzE0-nhA",
        "colab_type": "code",
        "colab": {}
      },
      "source": [
        "def AlternativeFrequentWords(Text, k):\n",
        "  '''\n",
        "  INPUTS:\n",
        "    Text: str, this carries the genome or a fragment of a genome.\n",
        "\t\tk: int, length of the word.\n",
        "  OUTPUTS:\n",
        "    words: str, returns most frequent words. \n",
        "  '''\n",
        "  words = []\n",
        "  freq = FrequencyMap(Text=Text, k=k)\n",
        "  m = max(freq.values())\n",
        "  for key in freq:\n",
        "      if freq[key] == m:\n",
        "       words.append(key)\n",
        "  return words"
      ],
      "execution_count": 0,
      "outputs": []
    },
    {
      "cell_type": "markdown",
      "metadata": {
        "colab_type": "text",
        "id": "uafsePAxKM10"
      },
      "source": [
        "## Test \n",
        "1. FrequencyMap\n",
        "2. AlternativeFrequentWords"
      ]
    },
    {
      "cell_type": "code",
      "metadata": {
        "colab_type": "code",
        "outputId": "8622131c-d5c7-4250-f11d-20043c7f903b",
        "id": "jtuWZZsbKLD4",
        "colab": {
          "base_uri": "https://localhost:8080/",
          "height": 71
        }
      },
      "source": [
        "Text = \"aactctatacctcctttttgtcgaatttgtgtgatttatagagaaaatcttattaactgaaactaaaatggt\"\\\n",
        "        \"aggtttggtggtaggttttgtgtacattttgtagtatctgatttttaattacataccgtatattgtattaaa\"\\\n",
        "        \"ttgacgaacaattgcatggaattgaatatatgcaaaacaaacctaccaccaaactctgtattgaccatttta\"\\\n",
        "        \"ggacaacttcagggtggtaggtttctgaagctctcatcaatagactattttagtctttacaaacaatattac\"\\\n",
        "        \"cgttcagattcaagattctacaacgctgttttaatgggcgttgcagaaaacttaccacctaaaatccagtat\"\\\n",
        "        \"ccaagccgatttcagagaaacctaccacttacctaccacttacctaccacccgggtggtaagttgcagacat\"\\\n",
        "        \"tattaaaaacctcatcagaagcttgttcaaaaatttcaatactcgaaacctaccacctgcgtcccctattat\"\\\n",
        "        \"ttactactactaataatagcagtataattgatctga\"\n",
        "k = 3\n",
        "print(FrequencyMap(Text, k))\n",
        "print(AlternativeFrequentWords(Text, k))"
      ],
      "execution_count": 0,
      "outputs": [
        {
          "output_type": "stream",
          "text": [
            "{'aac': 14, 'act': 13, 'ctc': 7, 'tct': 9, 'cta': 14, 'tat': 17, 'ata': 12, 'tac': 19, 'acc': 20, 'cct': 11, 'tcc': 4, 'ctt': 8, 'ttt': 24, 'ttg': 14, 'tgt': 10, 'gtc': 3, 'tcg': 2, 'cga': 4, 'gaa': 11, 'aat': 17, 'att': 24, 'gtg': 6, 'tga': 9, 'gat': 6, 'tta': 18, 'tag': 9, 'aga': 10, 'gag': 2, 'aaa': 23, 'atc': 7, 'taa': 11, 'ctg': 7, 'atg': 4, 'tgg': 7, 'ggt': 10, 'gta': 12, 'agg': 5, 'gtt': 8, 'aca': 9, 'cat': 7, 'agt': 5, 'ccg': 4, 'cgt': 4, 'gac': 5, 'acg': 2, 'caa': 13, 'tgc': 5, 'gca': 5, 'gga': 2, 'cca': 10, 'cac': 6, 'ttc': 8, 'tca': 10, 'cag': 8, 'ggg': 3, 'aag': 5, 'agc': 4, 'gct': 3, 'cgc': 1, 'ggc': 1, 'gcg': 2, 'gcc': 1, 'ccc': 3, 'cgg': 1}\n",
            "['ttt', 'att']\n"
          ],
          "name": "stdout"
        }
      ]
    },
    {
      "cell_type": "markdown",
      "metadata": {
        "id": "zSOPKK6zMEPH",
        "colab_type": "text"
      },
      "source": [
        "## PatternToNumber\n",
        "Fetches a pattern and converts it into a number following the algorithm."
      ]
    },
    {
      "cell_type": "code",
      "metadata": {
        "id": "aw5iaDaIMBmG",
        "colab_type": "code",
        "colab": {}
      },
      "source": [
        "def PatternToNumber(Pattern):\n",
        "  '''\n",
        "  INPUTS:\n",
        "    Pattern: str, a word of a specific length.\n",
        "  OUTPUTS:\n",
        "    int, a number corresponding to the pattern.\n",
        "  '''\n",
        "  if len(Pattern) == 0:\n",
        "      return 0\n",
        "  SymbolToNumber = {'a':0,'c':1,'g':2,'t':3}\n",
        "  Prefix = Pattern[:-1]\n",
        "  Symbol = Pattern[-1]\n",
        "  return 4*PatternToNumber(Prefix) + SymbolToNumber[Symbol]"
      ],
      "execution_count": 0,
      "outputs": []
    },
    {
      "cell_type": "markdown",
      "metadata": {
        "id": "DEC44_GqKzSy",
        "colab_type": "text"
      },
      "source": [
        "## ComputingFrequencies\n",
        "Computes frequencies of a word of length k in a given text."
      ]
    },
    {
      "cell_type": "code",
      "metadata": {
        "id": "vJHayCoZLTs6",
        "colab_type": "code",
        "colab": {}
      },
      "source": [
        "def ComputingFrequencies(Text, k):\n",
        "  '''\n",
        "  INPUTS:\n",
        "    Text: str, this carries the genome or a fragment of a genome.\n",
        "\t\tk: int, length of the word.\n",
        "  OUTPUTS:\n",
        "    FrequencyArray: list of integers, returns frequencies of the words of length k.\n",
        "  '''\n",
        "  FrequencyArray = []\n",
        "  for i in range((4**k)):\n",
        "      FrequencyArray.append(0)  \n",
        "  for i in range(len(Text) - k + 1):\n",
        "     Pattern = Text[i:i+k]\n",
        "     j = PatternToNumber(Pattern)\n",
        "     FrequencyArray[j] += 1\n",
        "  return FrequencyArray"
      ],
      "execution_count": 0,
      "outputs": []
    },
    {
      "cell_type": "markdown",
      "metadata": {
        "id": "PXq8YAKTNUx2",
        "colab_type": "text"
      },
      "source": [
        "## Test\n",
        "ComputingFrequencies"
      ]
    },
    {
      "cell_type": "code",
      "metadata": {
        "id": "6EE_et7UNETg",
        "colab_type": "code",
        "outputId": "271bbe04-3e4b-43d2-922e-9fa7ab5a0bd6",
        "colab": {
          "base_uri": "https://localhost:8080/",
          "height": 54
        }
      },
      "source": [
        "Text = \"aactctatacctcctttttgtcgaatttgtgtgatttatagagaaaatcttattaactgaaactaaaatggt\"\\\n",
        "        \"aggtttggtggtaggttttgtgtacattttgtagtatctgatttttaattacataccgtatattgtattaaa\"\\\n",
        "        \"ttgacgaacaattgcatggaattgaatatatgcaaaacaaacctaccaccaaactctgtattgaccatttta\"\\\n",
        "        \"ggacaacttcagggtggtaggtttctgaagctctcatcaatagactattttagtctttacaaacaatattac\"\\\n",
        "        \"cgttcagattcaagattctacaacgctgttttaatgggcgttgcagaaaacttaccacctaaaatccagtat\"\\\n",
        "        \"ccaagccgatttcagagaaacctaccacttacctaccacttacctaccacccgggtggtaagttgcagacat\"\\\n",
        "        \"tattaaaaacctcatcagaagcttgttcaaaaatttcaatactcgaaacctaccacctgcgtcccctattat\"\\\n",
        "        \"ttactactactaataatagcagtataattgatctga\"\n",
        "k = 3\n",
        "print(ComputingFrequencies(Text, k))"
      ],
      "execution_count": 0,
      "outputs": [
        {
          "output_type": "stream",
          "text": [
            "[23, 14, 5, 17, 9, 20, 2, 13, 10, 4, 5, 5, 12, 7, 4, 24, 13, 6, 8, 7, 10, 3, 4, 11, 4, 1, 1, 4, 14, 7, 7, 8, 11, 5, 2, 6, 5, 1, 2, 3, 2, 1, 3, 10, 12, 3, 6, 8, 11, 19, 9, 17, 10, 4, 2, 9, 9, 5, 7, 10, 18, 8, 14, 24]\n"
          ],
          "name": "stdout"
        }
      ]
    },
    {
      "cell_type": "markdown",
      "metadata": {
        "id": "nEo1hI1MRCTv",
        "colab_type": "text"
      },
      "source": [
        "## NumberToPattern\n",
        "Enantiomer of PatternToNumber"
      ]
    },
    {
      "cell_type": "code",
      "metadata": {
        "id": "L2Z106NeQ-r7",
        "colab_type": "code",
        "colab": {}
      },
      "source": [
        "def NumberToPattern(index, k):\n",
        "  '''\n",
        "  INPUTS:\n",
        "    index: int, the index derived from PatternToNumber for a word.\n",
        "    k: int, length of the word.\n",
        "  OUTPUTS:\n",
        "    str, the word corresponding to the number.\n",
        "  '''\n",
        "  NumberToSymbol = {0:'a',1:'c',2:'g',3:'t'}\n",
        "  if k == 1:\n",
        "     return NumberToSymbol[index]\n",
        "  prefixIndex = index//4\n",
        "  r = index % 4\n",
        "  Symbol = NumberToSymbol[r]\n",
        "  PrefixPattern = NumberToPattern(prefixIndex, k-1)\n",
        "  return PrefixPattern+Symbol"
      ],
      "execution_count": 0,
      "outputs": []
    },
    {
      "cell_type": "markdown",
      "metadata": {
        "id": "ipS57bpZQWGI",
        "colab_type": "text"
      },
      "source": [
        "## FasterFrequentWords\n",
        "This basically is the same as FrequentWords, but only chased by a dog. "
      ]
    },
    {
      "cell_type": "code",
      "metadata": {
        "id": "qG0QGFR_JDtN",
        "colab_type": "code",
        "colab": {}
      },
      "source": [
        "def FasterFrequentWords(Text, k):\n",
        "  '''\n",
        "  INPUTS:\n",
        "    Text: str, this carries the genome or a fragment of a genome.\n",
        "\t\tk: int, length of the word.\n",
        "  OUTPUTS:\n",
        "    FrequentPatterns: set of str corresponding to the most frequent words.\n",
        "  '''\n",
        "  FrequentPatterns = set()\n",
        "  FrequencyArray = ComputingFrequencies(Text=Text, k=k)\n",
        "  maxCount = max(FrequencyArray)\n",
        "  for i in range(4**k):\n",
        "    if FrequencyArray[i] == maxCount:\n",
        "      Pattern = NumberToPattern(i, k)\n",
        "      FrequentPatterns.add(Pattern)\n",
        "  return FrequentPatterns"
      ],
      "execution_count": 0,
      "outputs": []
    },
    {
      "cell_type": "markdown",
      "metadata": {
        "id": "QIcXlI34UL24",
        "colab_type": "text"
      },
      "source": [
        "## Test\n",
        "FasterFrequentWords"
      ]
    },
    {
      "cell_type": "code",
      "metadata": {
        "id": "6dIYubvhUT5P",
        "colab_type": "code",
        "outputId": "5a13f8ce-e91f-4829-d4fa-75fab636e357",
        "colab": {
          "base_uri": "https://localhost:8080/",
          "height": 34
        }
      },
      "source": [
        "Text = \"aactctatacctcctttttgtcgaatttgtgtgatttatagagaaaatcttattaactgaaactaaaatggt\"\\\n",
        "        \"aggtttggtggtaggttttgtgtacattttgtagtatctgatttttaattacataccgtatattgtattaaa\"\\\n",
        "        \"ttgacgaacaattgcatggaattgaatatatgcaaaacaaacctaccaccaaactctgtattgaccatttta\"\\\n",
        "        \"ggacaacttcagggtggtaggtttctgaagctctcatcaatagactattttagtctttacaaacaatattac\"\\\n",
        "        \"cgttcagattcaagattctacaacgctgttttaatgggcgttgcagaaaacttaccacctaaaatccagtat\"\\\n",
        "        \"ccaagccgatttcagagaaacctaccacttacctaccacttacctaccacccgggtggtaagttgcagacat\"\\\n",
        "        \"tattaaaaacctcatcagaagcttgttcaaaaatttcaatactcgaaacctaccacctgcgtcccctattat\"\\\n",
        "        \"ttactactactaataatagcagtataattgatctga\"\n",
        "k = 3\n",
        "print(FasterFrequentWords(Text, k))"
      ],
      "execution_count": 0,
      "outputs": [
        {
          "output_type": "stream",
          "text": [
            "{'ttt', 'att'}\n"
          ],
          "name": "stdout"
        }
      ]
    },
    {
      "cell_type": "markdown",
      "metadata": {
        "id": "FwU52S6xVCzM",
        "colab_type": "text"
      },
      "source": [
        "## FindingFrequentWordsBySorting\n",
        "Frequent words of length k are found in a give text by arranging their frequencies in the increasing order. "
      ]
    },
    {
      "cell_type": "code",
      "metadata": {
        "id": "FJG21PGCMvQ1",
        "colab_type": "code",
        "colab": {}
      },
      "source": [
        "def FindingFrequentWordsBySorting(Text, k):\n",
        "  '''\n",
        "  INPUTS:\n",
        "    Text: str, this carries the genome or a fragment of a genome.\n",
        "\t\tk: int, length of the word.\n",
        "  OUTPUTS:\n",
        "    FrequentPatterns: set of str corresponding to the most frequent words.\n",
        "  '''\n",
        "  FrequentPatterns = set()\n",
        "  Index = []\n",
        "  Count = []\n",
        "  for i in range(len(Text)-k + 1):\n",
        "    Pattern = Text[i:i+k]\n",
        "    Index.append(PatternToNumber(Pattern))\n",
        "    Count.append(1)\n",
        "\n",
        "  SortedIndex = sorted(Index)\n",
        "  for i in range(1, len(Text)-k + 1):\n",
        "    if SortedIndex[i] == SortedIndex[i-1]:\n",
        "     Count[i] = Count[i-1] + 1\n",
        "\n",
        "  maxCount = max(Count)\n",
        "  for i in range(len(Text)-k + 1):\n",
        "    if Count[i] == maxCount:\n",
        "      Pattern = NumberToPattern(SortedIndex[i], k)\n",
        "      FrequentPatterns.add(Pattern)\n",
        "  return FrequentPatterns    "
      ],
      "execution_count": 0,
      "outputs": []
    },
    {
      "cell_type": "markdown",
      "metadata": {
        "id": "SOMd4qrvVolI",
        "colab_type": "text"
      },
      "source": [
        "## Test\n",
        "FindingFrequentWordsBySorting"
      ]
    },
    {
      "cell_type": "code",
      "metadata": {
        "id": "8IXiK5g0Vtcp",
        "colab_type": "code",
        "outputId": "2553e935-28c4-4821-fcec-d55433afddc6",
        "colab": {
          "base_uri": "https://localhost:8080/",
          "height": 34
        }
      },
      "source": [
        "Text = \"aactctatacctcctttttgtcgaatttgtgtgatttatagagaaaatcttattaactgaaactaaaatggt\"\\\n",
        "        \"aggtttggtggtaggttttgtgtacattttgtagtatctgatttttaattacataccgtatattgtattaaa\"\\\n",
        "        \"ttgacgaacaattgcatggaattgaatatatgcaaaacaaacctaccaccaaactctgtattgaccatttta\"\\\n",
        "        \"ggacaacttcagggtggtaggtttctgaagctctcatcaatagactattttagtctttacaaacaatattac\"\\\n",
        "        \"cgttcagattcaagattctacaacgctgttttaatgggcgttgcagaaaacttaccacctaaaatccagtat\"\\\n",
        "        \"ccaagccgatttcagagaaacctaccacttacctaccacttacctaccacccgggtggtaagttgcagacat\"\\\n",
        "        \"tattaaaaacctcatcagaagcttgttcaaaaatttcaatactcgaaacctaccacctgcgtcccctattat\"\\\n",
        "        \"ttactactactaataatagcagtataattgatctga\"\n",
        "k = 3\n",
        "print(FindingFrequentWordsBySorting(Text, k))"
      ],
      "execution_count": 0,
      "outputs": [
        {
          "output_type": "stream",
          "text": [
            "{'ttt', 'att'}\n"
          ],
          "name": "stdout"
        }
      ]
    },
    {
      "cell_type": "markdown",
      "metadata": {
        "id": "ER_JFcB2WzGi",
        "colab_type": "text"
      },
      "source": [
        "## ClumpFinding\n",
        "Finds similar words occuring in close viscinity of each other from a text."
      ]
    },
    {
      "cell_type": "code",
      "metadata": {
        "id": "hO5TEddHZ4VN",
        "colab_type": "code",
        "colab": {}
      },
      "source": [
        "def ClumpFinding(Genome, k, L, t):\n",
        "  '''\n",
        "  INPUTS:\n",
        "    Genome: str, the text.\n",
        "    k: int, length of the word.\n",
        "    L: int, the distance within the text where are groups of words occur.\n",
        "    t: int, frequency of occurence.\n",
        "  OUTPUTS:\n",
        "    FrequentPatterns: set of str corresponding to the most frequent words.\n",
        "  '''\n",
        "  FrequentPatterns = set()\n",
        "  Clump = []\n",
        "  for i in range(4**k):\n",
        "    Clump.append(0)\n",
        "  for i in range(len(Genome)-L + 1):\n",
        "    Text = Genome[i:i+L]\n",
        "    FrequencyArray = ComputingFrequencies(Text, k)\n",
        "    for index in range(4**k):\n",
        "      if FrequencyArray[index] >= t:\n",
        "        Clump[index] = 1\n",
        "  for i in range(4**k):\n",
        "    if Clump[i] == 1:\n",
        "      Pattern = NumberToPattern(i, k)\n",
        "      FrequentPatterns.add(Pattern)\n",
        "  return FrequentPatterns"
      ],
      "execution_count": 0,
      "outputs": []
    },
    {
      "cell_type": "markdown",
      "metadata": {
        "id": "8nvVA7xcX_US",
        "colab_type": "text"
      },
      "source": [
        "## Test\n",
        "ClumpFinding"
      ]
    },
    {
      "cell_type": "code",
      "metadata": {
        "id": "jFYdkiZGWeSt",
        "colab_type": "code",
        "outputId": "c18a8b13-9407-4458-929f-6e10016796d2",
        "colab": {
          "base_uri": "https://localhost:8080/",
          "height": 34
        }
      },
      "source": [
        "Genome = \"aactctatacctcctttttgtcgaatttgtgtgatttatagagaaaatcttattaactgaaactaaaatggt\"\\\n",
        "        \"aggtttggtggtaggttttgtgtacattttgtagtatctgatttttaattacataccgtatattgtattaaa\"\\\n",
        "        \"ttgacgaacaattgcatggaattgaatatatgcaaaacaaacctaccaccaaactctgtattgaccatttta\"\\\n",
        "        \"ggacaacttcagggtggtaggtttctgaagctctcatcaatagactattttagtctttacaaacaatattac\"\\\n",
        "        \"cgttcagattcaagattctacaacgctgttttaatgggcgttgcagaaaacttaccacctaaaatccagtat\"\\\n",
        "        \"ccaagccgatttcagagaaacctaccacttacctaccacttacctaccacccgggtggtaagttgcagacat\"\\\n",
        "        \"tattaaaaacctcatcagaagcttgttcaaaaatttcaatactcgaaacctaccacctgcgtcccctattat\"\\\n",
        "        \"ttactactactaataatagcagtataattgatctga\"\n",
        "k = 3\n",
        "L = 50\n",
        "t = 4\n",
        "print(ClumpFinding(Genome, k, L, t))"
      ],
      "execution_count": 0,
      "outputs": [
        {
          "output_type": "stream",
          "text": [
            "{'ata', 'ggt', 'tac', 'tca', 'act', 'aac', 'cta', 'aat', 'att', 'ttg', 'ttt', 'acc', 'cca', 'tat', 'tta', 'caa', 'tgt', 'gta', 'aaa'}\n"
          ],
          "name": "stdout"
        }
      ]
    },
    {
      "cell_type": "markdown",
      "metadata": {
        "id": "UOYubj91IOI2",
        "colab_type": "text"
      },
      "source": [
        "## HammingDistance\n",
        "Number of mismatches between two similar sentences."
      ]
    },
    {
      "cell_type": "code",
      "metadata": {
        "id": "AslurwtvIZmZ",
        "colab_type": "code",
        "colab": {}
      },
      "source": [
        "def HammingDistance(Pattern1, Pattern2):\n",
        "  '''\n",
        "  INPUTS:\n",
        "    Pattern1: str, the sentence\n",
        "    Pattern2: str, the sentence to match agaisnt\n",
        "  OUTPUTS:\n",
        "    count: int, returns the number of times the pattern appears\n",
        "  '''\n",
        "  count = 0\n",
        "  for i in range(len(Pattern1)):\n",
        "    if Pattern1[i] != Pattern2[i]:\n",
        "      count += 1\n",
        "  return count    "
      ],
      "execution_count": 0,
      "outputs": []
    },
    {
      "cell_type": "markdown",
      "metadata": {
        "id": "8F8-vBbUHKvt",
        "colab_type": "text"
      },
      "source": [
        "## ApproximatePatternCount\n",
        "Calculates the Hamming distance between the pattern and word from text and counts them with maximum of d mismatches. "
      ]
    },
    {
      "cell_type": "code",
      "metadata": {
        "id": "dzE7YWO0HnTr",
        "colab_type": "code",
        "colab": {}
      },
      "source": [
        "def  ApproximatePatternCount(Text, Pattern, d):\n",
        "  '''\n",
        "  INPUTS:\n",
        "    Text: str, the genome\n",
        "    Pattern: str, the word to match agaisnt\n",
        "    d: int, number of mismatches\n",
        "  OUTPUTS:\n",
        "    count: int, returns the number of times the pattern appears\n",
        "  '''\n",
        "  count = 0\n",
        "  for i in range(0, len(Text) - len(Pattern) + 1):\n",
        "    Pattern2 = Text[i: i + len(Pattern)]\n",
        "    if HammingDistance(Pattern2, Pattern) <= d:\n",
        "      count += 1\n",
        "  return count\t\t"
      ],
      "execution_count": 0,
      "outputs": []
    },
    {
      "cell_type": "markdown",
      "metadata": {
        "id": "zOAS3XHwIqRo",
        "colab_type": "text"
      },
      "source": [
        "## Test\n",
        "1. HammingDistance\n",
        "2. ApproximatePatternCount\n",
        " (you need to make slight changes in the test variables to run both the functions)\n",
        " "
      ]
    },
    {
      "cell_type": "code",
      "metadata": {
        "id": "irbq2GcLIvwC",
        "colab_type": "code",
        "outputId": "ef9fc880-ac74-4b0d-a6d5-8952fe0b8373",
        "colab": {
          "base_uri": "https://localhost:8080/",
          "height": 34
        }
      },
      "source": [
        "Text = \"aggtttggtggtaggttttgtgtacattttgtagtatctgatttttaattacataccgtatattgtattaaa\"\n",
        "Pattern = \"aac\"\n",
        "d = 2\n",
        "#print(HammingDistance(Pattern1, Pattern2))\n",
        "print(ApproximatePatternCount(Text, Pattern, d))"
      ],
      "execution_count": 0,
      "outputs": [
        {
          "output_type": "stream",
          "text": [
            "30\n"
          ],
          "name": "stdout"
        }
      ]
    }
  ]
}